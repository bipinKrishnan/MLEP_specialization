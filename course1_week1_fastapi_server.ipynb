{
  "nbformat": 4,
  "nbformat_minor": 0,
  "metadata": {
    "colab": {
      "name": "MLEP_fastapi_server.ipynb",
      "provenance": [],
      "collapsed_sections": []
    },
    "kernelspec": {
      "name": "python3",
      "display_name": "Python 3"
    },
    "language_info": {
      "name": "python"
    }
  },
  "cells": [
    {
      "cell_type": "code",
      "metadata": {
        "id": "NxWv_uysqHAt"
      },
      "source": [
        "!pip install cvlib"
      ],
      "execution_count": null,
      "outputs": []
    },
    {
      "cell_type": "code",
      "metadata": {
        "id": "XzpcNg8zJiKu"
      },
      "source": [
        "import cv2\n",
        "import cvlib as cv\n",
        "from cvlib.object_detection import draw_bbox\n",
        "import os"
      ],
      "execution_count": null,
      "outputs": []
    },
    {
      "cell_type": "code",
      "metadata": {
        "id": "nlTXNQ3JxptB"
      },
      "source": [
        "def detect_and_draw_bbox(img_path, confidence=0.5, model='yolov3-tiny'):\n",
        "  img = cv2.imread(img_path)\n",
        "  bbox, label, conf = cv.detect_common_objects(img, confidence=0.5, model='yolov3-tiny')\n",
        "  bbox_img = draw_bbox(img, bbox, label, conf)\n",
        "\n",
        "  plt.title(label)\n",
        "  plt.imshow(bbox_img)\n",
        "  plt.show()"
      ],
      "execution_count": 31,
      "outputs": []
    },
    {
      "cell_type": "code",
      "metadata": {
        "id": "jjWjvyhzAQ_f"
      },
      "source": [
        "!pip install -q fastapi uvicorn pyngrok python-multipart"
      ],
      "execution_count": null,
      "outputs": []
    },
    {
      "cell_type": "code",
      "metadata": {
        "id": "CSB6KjAix5ET"
      },
      "source": [
        "import cv2\n",
        "import cvlib as cv\n",
        "from cvlib.object_detection import draw_bbox\n",
        "import os\n",
        "\n",
        "from fastapi import FastAPI, UploadFile, File, HTTPException\n",
        "from fastapi.responses import StreamingResponse\n",
        "import uvicorn\n",
        "import nest_asyncio\n",
        "from pyngrok import ngrok\n",
        "from enum import Enum\n",
        "from io import BytesIO\n",
        "\n",
        "import numpy as np"
      ],
      "execution_count": 1,
      "outputs": []
    },
    {
      "cell_type": "code",
      "metadata": {
        "id": "wHaNCIDaDwB8"
      },
      "source": [
        "class Model(str, Enum):\n",
        "  yolov3 = 'yolov3'\n",
        "  yolov3_tiny = 'yolov3-tiny'"
      ],
      "execution_count": 2,
      "outputs": []
    },
    {
      "cell_type": "code",
      "metadata": {
        "id": "407PjMHj_tUE"
      },
      "source": [
        "app = FastAPI(title=\"Simple fastapi model\")\n",
        "\n",
        "@app.post('/')\n",
        "def index(model: Model, img_file: UploadFile=File(...)):\n",
        "  filename = img_file.filename\n",
        "  file_ext = filename.split('.')[-1] in ('jpg', 'jpeg', 'png')\n",
        "  if not file_ext:\n",
        "    raise HTTPException(status_code=415, detail=\"Unsupported file provided.\")\n",
        "\n",
        "  img_stream = BytesIO(img_file.file.read())\n",
        "  img_stream.seek(0)\n",
        "  file_bytes = np.asarray(bytearray(img_stream.read()), dtype=np.uint8)\n",
        "\n",
        "  img = cv2.imdecode(file_bytes, cv2.IMREAD_COLOR)\n",
        "  bbox, label, conf = cv.detect_common_objects(img, model=model)\n",
        "\n",
        "  out_img = draw_bbox(img, bbox, label, conf)\n",
        "  cv2.imwrite(filename, out_img)\n",
        "\n",
        "  file_img = open(filename, mode='rb')\n",
        "\n",
        "  return StreamingResponse(file_img, media_type='image/jpeg')"
      ],
      "execution_count": 25,
      "outputs": []
    },
    {
      "cell_type": "code",
      "metadata": {
        "id": "3QGz9r_g_9uM"
      },
      "source": [
        "ngrok_tunnel = ngrok.connect(9000)\n",
        "print(f\"Public url: {ngrok_tunnel.public_url}/docs\")\n",
        "nest_asyncio.apply()\n",
        "uvicorn.run(app, port=9000)"
      ],
      "execution_count": null,
      "outputs": []
    },
    {
      "cell_type": "code",
      "metadata": {
        "id": "byknRNRmFHmQ"
      },
      "source": [
        ""
      ],
      "execution_count": null,
      "outputs": []
    }
  ]
}